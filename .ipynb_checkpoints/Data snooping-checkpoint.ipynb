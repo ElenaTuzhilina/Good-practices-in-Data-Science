{
 "cells": [
  {
   "cell_type": "markdown",
   "metadata": {},
   "source": [
    "# Data snooping "
   ]
  },
  {
   "cell_type": "markdown",
   "metadata": {},
   "source": [
    "<div>\n",
    "<img src = \"coase.jpg\" width = \"700\" align = \"left\">\n",
    "</div>"
   ]
  },
  {
   "cell_type": "markdown",
   "metadata": {},
   "source": [
    "*Data snooping* is a form of statistical bias manipulating data or analysis to artificially get statistically significant results. \n",
    "\n",
    "Ronald H. Coase once said: \"If you torture the data long enough it will confess to anything\". \n",
    "Because of the probabilistic nature of all statistical tests, long data manipulation increases your chances to observe statistically significant results. And although some of these results may be significant by nature, other results could demonstrate this property just by chance. \n",
    "\n",
    "*Alternative names:* data dredging, data torturing, data fishing, data butchery, p-hacking."
   ]
  },
  {
   "cell_type": "markdown",
   "metadata": {},
   "source": [
    "# Jelly beans experiment"
   ]
  },
  {
   "cell_type": "markdown",
   "metadata": {},
   "source": [
    "In this simple simulation we will demonstrate an example of data snooping."
   ]
  },
  {
   "cell_type": "markdown",
   "metadata": {},
   "source": [
    "*Pre-history*:\n",
    "\n",
    "Suppose you want to study the effect of jelly beans on acne. \n",
    "\n",
    "You stated the *null hypothesis*:\n",
    "\"There is no effect of eating jelly beans on acne condition.\"\n",
    "\n",
    "You conducted a survey among $500$ volunteers and collected the following information: \n",
    "* you asked if a participant eats jelly beans on a regular basis \n",
    "* you assessed the acne condition of a participant by a value between $0$ and $1$ \n",
    "\n",
    "Your t-test returned *non-significant p-value*. "
   ]
  },
  {
   "cell_type": "markdown",
   "metadata": {},
   "source": [
    "<div>\n",
    "<img src = \"comic.png\" width = \"600\" align = \"left\">\n",
    "</div>"
   ]
  },
  {
   "cell_type": "markdown",
   "metadata": {},
   "source": [
    "Now let's simulate the data. In this simulation we will generate two independent random variables: \n",
    "* *acne_condition* indicating the acne condition of a participant will be drawn from uniform distribution $U(0,1)$  \n",
    "* *eating* indicating jelly bean consumption will be drawn from Bernoulli distribution $Bern(0.9)$ \n",
    "\n",
    "Here we assume that $90\\%$ of the population eats jelly beans on a regular basis (yeah, that's a lot!). In addition, we assume that there is no effect of eating jelly beans on the acne, so these two measurements are generated independently of each other.\n",
    "\n",
    "We draw a sample of size $500$ from this distribution:"
   ]
  },
  {
   "cell_type": "code",
   "execution_count": 48,
   "metadata": {},
   "outputs": [
    {
     "data": {
      "text/html": [
       "<table>\n",
       "<caption>A data.frame: 6 × 2</caption>\n",
       "<thead>\n",
       "\t<tr><th scope=col>acne_condition</th><th scope=col>eating</th></tr>\n",
       "\t<tr><th scope=col>&lt;dbl&gt;</th><th scope=col>&lt;fct&gt;</th></tr>\n",
       "</thead>\n",
       "<tbody>\n",
       "\t<tr><td>0.2655087</td><td>eating    </td></tr>\n",
       "\t<tr><td>0.3721239</td><td>eating    </td></tr>\n",
       "\t<tr><td>0.5728534</td><td>eating    </td></tr>\n",
       "\t<tr><td>0.9082078</td><td>eating    </td></tr>\n",
       "\t<tr><td>0.2016819</td><td>eating    </td></tr>\n",
       "\t<tr><td>0.8983897</td><td>not eating</td></tr>\n",
       "</tbody>\n",
       "</table>\n"
      ],
      "text/latex": [
       "A data.frame: 6 × 2\n",
       "\\begin{tabular}{r|ll}\n",
       " acne\\_condition & eating\\\\\n",
       " <dbl> & <fct>\\\\\n",
       "\\hline\n",
       "\t 0.2655087 & eating    \\\\\n",
       "\t 0.3721239 & eating    \\\\\n",
       "\t 0.5728534 & eating    \\\\\n",
       "\t 0.9082078 & eating    \\\\\n",
       "\t 0.2016819 & eating    \\\\\n",
       "\t 0.8983897 & not eating\\\\\n",
       "\\end{tabular}\n"
      ],
      "text/markdown": [
       "\n",
       "A data.frame: 6 × 2\n",
       "\n",
       "| acne_condition &lt;dbl&gt; | eating &lt;fct&gt; |\n",
       "|---|---|\n",
       "| 0.2655087 | eating     |\n",
       "| 0.3721239 | eating     |\n",
       "| 0.5728534 | eating     |\n",
       "| 0.9082078 | eating     |\n",
       "| 0.2016819 | eating     |\n",
       "| 0.8983897 | not eating |\n",
       "\n"
      ],
      "text/plain": [
       "  acne_condition eating    \n",
       "1 0.2655087      eating    \n",
       "2 0.3721239      eating    \n",
       "3 0.5728534      eating    \n",
       "4 0.9082078      eating    \n",
       "5 0.2016819      eating    \n",
       "6 0.8983897      not eating"
      ]
     },
     "metadata": {},
     "output_type": "display_data"
    }
   ],
   "source": [
    "people = 500\n",
    "p_eat_jelly_bean = 0.9\n",
    "\n",
    "#draw a sample\n",
    "set.seed(1)\n",
    "acne_condition = runif(people)\n",
    "eating = sample(c('eating', 'not eating'), people, replace = TRUE, prob = c(p_eat_jelly_bean, 1 - p_eat_jelly_bean))\n",
    "\n",
    "#create data frame\n",
    "data = data.frame('acne_condition' = acne_condition, 'eating' = eating)\n",
    "head(data)"
   ]
  },
  {
   "cell_type": "markdown",
   "metadata": {},
   "source": [
    "Let's have a look at the boxplot of the data."
   ]
  },
  {
   "cell_type": "code",
   "execution_count": 49,
   "metadata": {},
   "outputs": [
    {
     "data": {
      "image/png": "[encoded data removed]",
      "text/plain": [
       "plot without title"
      ]
     },
     "metadata": {},
     "output_type": "display_data"
    }
   ],
   "source": [
    "library(ggplot2)\n",
    "options(repr.plot.width = 5, repr.plot.height = 4)\n",
    "ggplot(data)+\n",
    "geom_boxplot(aes(x = eating, y = acne_condition, fill = eating))+\n",
    "scale_fill_manual(breaks =  c('eating', 'not eating'), values =  c('grey', 'white'))+\n",
    "theme(legend.position = \"none\", plot.title = element_text(hjust = 0.5))+\n",
    "xlab('eating jelly beans') + ylab('acne condition')+\n",
    "ggtitle('Distribution of acne condition \\nfor people eating/not eating jelly beans')"
   ]
  },
  {
   "cell_type": "markdown",
   "metadata": {},
   "source": [
    "Now let's run *Student's t-test* to check our null hypothesis:\n",
    "\"There is no effect of eating jelly beans on acne condition.\""
   ]
  },
  {
   "cell_type": "code",
   "execution_count": 50,
   "metadata": {},
   "outputs": [
    {
     "data": {
      "text/plain": [
       "\n",
       "\tWelch Two Sample t-test\n",
       "\n",
       "data:  acne_condition by eating\n",
       "t = -0.42948, df = 73.664, p-value = 0.6688\n",
       "alternative hypothesis: true difference in means is not equal to 0\n",
       "95 percent confidence interval:\n",
       " -0.09402103  0.06067896\n",
       "sample estimates:\n",
       "    mean in group eating mean in group not eating \n",
       "               0.4937211                0.5103921 \n"
      ]
     },
     "metadata": {},
     "output_type": "display_data"
    }
   ],
   "source": [
    "t.test(acne_condition ~ eating, data = data)"
   ]
  },
  {
   "cell_type": "markdown",
   "metadata": {},
   "source": [
    "The resulting p-value is much higher than the standard threshold, i.e. $p>0.05$, leading us to the conclusion that we cannot reject the null hypothesis. In other words, there is not enough evidence to say that eating jelly beans causes acne.\n",
    "\n",
    "\n",
    "You feel disappointed because you cannot publish your results. \n",
    "Your colleague suggests you to further investigate the data and check different colors of jelly beans.\n",
    "Maybe one of them is more dangerous than the others?"
   ]
  },
  {
   "cell_type": "markdown",
   "metadata": {},
   "source": [
    "Let's add the color information to the data. We assume that there exist $20$ different jelly bean colors and people eat jelly beans of each color with equal probability. Therefore, we simulate one more random variable representing jelly beans color. For simplicity we also assign people who do not eat jelly beans on a regular basis white color."
   ]
  },
  {
   "cell_type": "code",
   "execution_count": 51,
   "metadata": {},
   "outputs": [
    {
     "data": {
      "text/html": [
       "<table>\n",
       "<caption>A data.frame: 6 × 3</caption>\n",
       "<thead>\n",
       "\t<tr><th scope=col>acne_condition</th><th scope=col>eating</th><th scope=col>jelly_bean_color</th></tr>\n",
       "\t<tr><th scope=col>&lt;dbl&gt;</th><th scope=col>&lt;fct&gt;</th><th scope=col>&lt;fct&gt;</th></tr>\n",
       "</thead>\n",
       "<tbody>\n",
       "\t<tr><td>0.2655087</td><td>eating    </td><td>yellow </td></tr>\n",
       "\t<tr><td>0.3721239</td><td>eating    </td><td>green  </td></tr>\n",
       "\t<tr><td>0.5728534</td><td>eating    </td><td>magenta</td></tr>\n",
       "\t<tr><td>0.9082078</td><td>eating    </td><td>blue   </td></tr>\n",
       "\t<tr><td>0.2016819</td><td>eating    </td><td>cyan   </td></tr>\n",
       "\t<tr><td>0.8983897</td><td>not eating</td><td>white  </td></tr>\n",
       "</tbody>\n",
       "</table>\n"
      ],
      "text/latex": [
       "A data.frame: 6 × 3\n",
       "\\begin{tabular}{r|lll}\n",
       " acne\\_condition & eating & jelly\\_bean\\_color\\\\\n",
       " <dbl> & <fct> & <fct>\\\\\n",
       "\\hline\n",
       "\t 0.2655087 & eating     & yellow \\\\\n",
       "\t 0.3721239 & eating     & green  \\\\\n",
       "\t 0.5728534 & eating     & magenta\\\\\n",
       "\t 0.9082078 & eating     & blue   \\\\\n",
       "\t 0.2016819 & eating     & cyan   \\\\\n",
       "\t 0.8983897 & not eating & white  \\\\\n",
       "\\end{tabular}\n"
      ],
      "text/markdown": [
       "\n",
       "A data.frame: 6 × 3\n",
       "\n",
       "| acne_condition &lt;dbl&gt; | eating &lt;fct&gt; | jelly_bean_color &lt;fct&gt; |\n",
       "|---|---|---|\n",
       "| 0.2655087 | eating     | yellow  |\n",
       "| 0.3721239 | eating     | green   |\n",
       "| 0.5728534 | eating     | magenta |\n",
       "| 0.9082078 | eating     | blue    |\n",
       "| 0.2016819 | eating     | cyan    |\n",
       "| 0.8983897 | not eating | white   |\n",
       "\n"
      ],
      "text/plain": [
       "  acne_condition eating     jelly_bean_color\n",
       "1 0.2655087      eating     yellow          \n",
       "2 0.3721239      eating     green           \n",
       "3 0.5728534      eating     magenta         \n",
       "4 0.9082078      eating     blue            \n",
       "5 0.2016819      eating     cyan            \n",
       "6 0.8983897      not eating white           "
      ]
     },
     "metadata": {},
     "output_type": "display_data"
    }
   ],
   "source": [
    "#create list of colors\n",
    "colors = c('red', 'grey', 'blue', 'yellow', 'orange', 'purple', 'limegreen', \n",
    "                     'cyan', 'brown', 'pink', 'gold', 'salmon', 'magenta', \n",
    "                     'peachpuff', 'tan', 'aquamarine', 'beige', 'coral', 'steelblue', 'green')\n",
    "#draw a sample\n",
    "jelly_bean_color = rep('white', people)\n",
    "jelly_bean_color[eating == 'eating'] = sample(colors, sum(eating == 'eating'), replace = TRUE)\n",
    "jelly_bean_color = factor(jelly_bean_color, levels = c(colors, 'white'))\n",
    "#add color column to the data\n",
    "data = data.frame(data, 'jelly_bean_color' = jelly_bean_color)\n",
    "head(data)"
   ]
  },
  {
   "cell_type": "markdown",
   "metadata": {},
   "source": [
    "Now let's plot the distribution of acne condition for different jelly bean colors."
   ]
  },
  {
   "cell_type": "code",
   "execution_count": 52,
   "metadata": {},
   "outputs": [
    {
     "data": {
      "image/png": "[encoded data removed]",
      "text/plain": [
       "plot without title"
      ]
     },
     "metadata": {},
     "output_type": "display_data"
    }
   ],
   "source": [
    "options(repr.plot.width = 12, repr.plot.height = 5)\n",
    "ggplot(data)+\n",
    "geom_boxplot(aes(x = jelly_bean_color, y = acne_condition, fill = jelly_bean_color))+\n",
    "scale_fill_manual(breaks =  c(colors, 'white'), values =  c(colors, 'white'))+\n",
    "xlab('jelly bean color') + ylab('acne condition')+\n",
    "theme(legend.position = \"none\")"
   ]
  },
  {
   "cell_type": "markdown",
   "metadata": {},
   "source": [
    "To check the influence of a specific jelly bean color on acne condition you again run t-test. "
   ]
  },
  {
   "cell_type": "code",
   "execution_count": 53,
   "metadata": {},
   "outputs": [],
   "source": [
    "test_color = function(color){\n",
    "    data = subset(data, jelly_bean_color %in% c('white', color))\n",
    "    ttest = t.test(acne_condition~eating, data = data)\n",
    "    return(ttest$p.value)\n",
    "} "
   ]
  },
  {
   "cell_type": "markdown",
   "metadata": {},
   "source": [
    "You check red color first."
   ]
  },
  {
   "cell_type": "code",
   "execution_count": 54,
   "metadata": {
    "scrolled": true
   },
   "outputs": [
    {
     "name": "stdout",
     "output_type": "stream",
     "text": [
      "p value for red color =  0.7368412"
     ]
    }
   ],
   "source": [
    "red_pval = test_color('red')\n",
    "cat('p value for red color = ', red_pval)"
   ]
  },
  {
   "cell_type": "markdown",
   "metadata": {},
   "source": [
    "<div>\n",
    "<img src = \"red.png\" width = \"170\" align = \"left\">\n",
    "</div>"
   ]
  },
  {
   "cell_type": "markdown",
   "metadata": {},
   "source": [
    "You try blue color next."
   ]
  },
  {
   "cell_type": "code",
   "execution_count": 55,
   "metadata": {
    "scrolled": true
   },
   "outputs": [
    {
     "name": "stdout",
     "output_type": "stream",
     "text": [
      "p value for blue color =  0.9504174"
     ]
    }
   ],
   "source": [
    "blue_pval = test_color('blue')\n",
    "cat('p value for blue color = ', blue_pval)"
   ]
  },
  {
   "cell_type": "markdown",
   "metadata": {},
   "source": [
    "<div>\n",
    "<img src = \"blue.png\" width = \"170\" align = \"left\">\n",
    "</div>"
   ]
  },
  {
   "cell_type": "markdown",
   "metadata": {},
   "source": [
    "Maybe yellow color will work?"
   ]
  },
  {
   "cell_type": "code",
   "execution_count": 56,
   "metadata": {
    "scrolled": true
   },
   "outputs": [
    {
     "name": "stdout",
     "output_type": "stream",
     "text": [
      "p value for yellow color =  0.6850822"
     ]
    }
   ],
   "source": [
    "yellow_pval = test_color('yellow')\n",
    "cat('p value for yellow color = ', yellow_pval)"
   ]
  },
  {
   "cell_type": "markdown",
   "metadata": {},
   "source": [
    "<div>\n",
    "<img src = \"yellow.png\" width = \"170\" align = \"left\">\n",
    "</div>"
   ]
  },
  {
   "cell_type": "markdown",
   "metadata": {},
   "source": [
    "You run t-test for all $20$ jelly bean colors."
   ]
  },
  {
   "cell_type": "code",
   "execution_count": 57,
   "metadata": {},
   "outputs": [],
   "source": [
    "color_pvals = sapply(colors, test_color)\n",
    "ttest_data = data.frame('color' = factor(colors, levels = colors), 'pval' = color_pvals)"
   ]
  },
  {
   "cell_type": "markdown",
   "metadata": {},
   "source": [
    "And you observe the following distribution of p-values."
   ]
  },
  {
   "cell_type": "code",
   "execution_count": 58,
   "metadata": {},
   "outputs": [
    {
     "data": {
      "image/png": "[encoded data removed]",
      "text/plain": [
       "plot without title"
      ]
     },
     "metadata": {},
     "output_type": "display_data"
    }
   ],
   "source": [
    "options(repr.plot.width = 12, repr.plot.height = 4)\n",
    "ggplot(ttest_data)+\n",
    "geom_point(aes(x = color, y = pval, color = color), size = 5)+\n",
    "scale_color_manual(breaks =  colors, values =  colors)+\n",
    "geom_hline(aes(yintercept = 0.05), linetype = 'dashed')+\n",
    "ylim(0, 1)+\n",
    "xlab('jelly bean color') + ylab('p-value')+\n",
    "theme(legend.position = \"none\")"
   ]
  },
  {
   "cell_type": "markdown",
   "metadata": {},
   "source": [
    "Finally, you discover that green jelly bean color has significant p-value! "
   ]
  },
  {
   "cell_type": "code",
   "execution_count": 60,
   "metadata": {},
   "outputs": [
    {
     "name": "stdout",
     "output_type": "stream",
     "text": [
      "p value for green color =  0.02884681"
     ]
    }
   ],
   "source": [
    "green_pval = test_color('green')\n",
    "cat('p value for green color = ', green_pval)"
   ]
  },
  {
   "cell_type": "markdown",
   "metadata": {},
   "source": [
    "<div>\n",
    "<img src = \"green.png\" width = \"170\" align = \"left\">\n",
    "</div>"
   ]
  },
  {
   "cell_type": "markdown",
   "metadata": {},
   "source": [
    "You finally publish your breaking news."
   ]
  },
  {
   "cell_type": "markdown",
   "metadata": {},
   "source": [
    "<div>\n",
    "<img src = \"significant.png\" width = \"250\" align = \"left\">\n",
    "</div>"
   ]
  },
  {
   "cell_type": "markdown",
   "metadata": {},
   "source": [
    "# Explanation"
   ]
  },
  {
   "cell_type": "markdown",
   "metadata": {},
   "source": [
    "Now let's figure out what is going on here. So far it looks quite counterintuitive: it seems that the way we generated the data should make the acne condition completely independent of eating jelly beans of any color.\n",
    "\n",
    "Actually, it is not the data that causes the problem, it is the testing procedure! \n",
    "\n",
    "It turns out that even if there is no effect of eating jelly beans on acne *the probability to observe a significant result is equal to $0.05$*. This can be explained by the fact that *p-value is uniformly distributed under the null*, thus observing p-value less than 0.05 has exactly $5\\%$ chance. You can find the formal proof in the \"Formal proofs\" section, however, one can check this statement via simulation as well. "
   ]
  },
  {
   "cell_type": "markdown",
   "metadata": {},
   "source": [
    "To do so, we will generate the same jelly beans data $1000$ times, run t-test for each data and check the distribution of p-values. Note that the way we generate the data guarantees the real data distribution to follow the hypothesis."
   ]
  },
  {
   "cell_type": "code",
   "execution_count": 113,
   "metadata": {},
   "outputs": [
    {
     "data": {
      "image/png": "[encoded data removed]",
      "text/plain": [
       "plot without title"
      ]
     },
     "metadata": {},
     "output_type": "display_data"
    }
   ],
   "source": [
    "#generate\n",
    "generate = function(seed){\n",
    "    set.seed(seed)\n",
    "    acne_condition = runif(people)\n",
    "    eating = sample(c('eating', 'not eating'), people, replace = TRUE, prob = c(p_eat_jelly_bean, 1 - p_eat_jelly_bean))\n",
    "    data = data.frame('acne_condition' = acne_condition, 'eating' = eating)\n",
    "    jelly_bean_color = rep('white', people)\n",
    "    jelly_bean_color[eating == 'eating'] = sample(colors, sum(eating == 'eating'), replace = TRUE)\n",
    "    jelly_bean_color = factor(jelly_bean_color, levels = c(colors, 'white'))\n",
    "    data = data.frame(data, 'jelly_bean_color' = jelly_bean_color)\n",
    "    return(data)\n",
    "}\n",
    "#compute pvalues for 1000 random data sets\n",
    "trial = 1000\n",
    "pvals = vector(, trial)\n",
    "for(seed in 1:trial){\n",
    "    data = generate(seed)\n",
    "    ttest = t.test(acne_condition ~ eating, data = data)\n",
    "    pvals[seed] = ttest$p.value\n",
    "}\n",
    "#histogram\n",
    "options(repr.plot.width = 5, repr.plot.height = 4)\n",
    "ggplot()+\n",
    "geom_histogram(aes(x = pvals, y = ..density..), breaks = seq(0,1,0.1), fill = 'orange', alpha = 0.5)"
   ]
  },
  {
   "cell_type": "markdown",
   "metadata": {},
   "source": [
    "The histogram demonstrates that p-value follows the uniform distribution."
   ]
  },
  {
   "cell_type": "markdown",
   "metadata": {},
   "source": [
    "Next, if there is $5\\%$ to observe a significant result under the null, then testing $20$ different colors will result in\n",
    "$$1 - 0.95^{20}\\approx 64\\%$$ chance to observe *at least one* significant test among these $20$. In other words, running many tests on the same data increased the probability to observe some significant result form $5\\%$ to $64\\%$!"
   ]
  },
  {
   "cell_type": "code",
   "execution_count": 120,
   "metadata": {},
   "outputs": [],
   "source": [
    "#check number of significant pvalues for 1000 random data sets, can take a few minunes\n",
    "trial = 10000\n",
    "significant = vector(, trial)\n",
    "for(seed in 1:trial){\n",
    "    data = generate(seed)\n",
    "    color_pvals = sapply(colors, test_color)\n",
    "    significant[seed] = mean(color_pvals < 0.05) \n",
    "}"
   ]
  },
  {
   "cell_type": "code",
   "execution_count": 123,
   "metadata": {},
   "outputs": [
    {
     "data": {
      "text/html": [
       "0.5488"
      ],
      "text/latex": [
       "0.5488"
      ],
      "text/markdown": [
       "0.5488"
      ],
      "text/plain": [
       "[1] 0.5488"
      ]
     },
     "metadata": {},
     "output_type": "display_data"
    }
   ],
   "source": [
    "mean(significant>0)"
   ]
  },
  {
   "cell_type": "markdown",
   "metadata": {},
   "source": [
    "Actually it is about 55%, hmmm..."
   ]
  },
  {
   "cell_type": "markdown",
   "metadata": {},
   "source": [
    "# Formal proofs"
   ]
  },
  {
   "cell_type": "markdown",
   "metadata": {},
   "source": [
    "**Fact 1**: *p-value is uniformly distributed under the null*"
   ]
  },
  {
   "cell_type": "markdown",
   "metadata": {},
   "source": [
    "Let's for simplicity assume that one-sided T test is performed. If $T$ denotes the T-statistics computed by t-test, then, by definition, p-value is defined as \n",
    "$$p = P(X < T) = F(T)$$\n",
    "where $X$ is distributed according to Student's distribution and $F(\\cdot)$ refers to the distribution function of Student's distribution. Here $p$ is a random variable where the randomness comes from $T$ (it is a statistic depending on the data, thus, random).\n",
    "Then \n",
    "$$P(p < u) = P(F(T) < u) = P(T < F^{-1}(u))$$\n",
    "We know that under the null hypothesis statistic $T$ follows Student distribution as well. Therefore,\n",
    "$$P(p < u) = P(F(T) < u) = P(T < F^{-1}(u)) = F\\left(F^{-1}(u)\\right) = u$$\n",
    "We conclude that $p$ is uniformly distributed."
   ]
  },
  {
   "cell_type": "markdown",
   "metadata": {},
   "source": [
    "# Famous examples"
   ]
  },
  {
   "cell_type": "markdown",
   "metadata": {},
   "source": [
    "## Cornell’s Food and Brand Lab experiment"
   ]
  },
  {
   "cell_type": "code",
   "execution_count": null,
   "metadata": {},
   "outputs": [],
   "source": []
  },
  {
   "cell_type": "markdown",
   "metadata": {},
   "source": [
    "# Remedies"
   ]
  },
  {
   "cell_type": "markdown",
   "metadata": {},
   "source": [
    "There is nothing bad about running multiple tests on the data as long as you clear in reporting your results."
   ]
  },
  {
   "cell_type": "code",
   "execution_count": null,
   "metadata": {},
   "outputs": [],
   "source": []
  },
  {
   "cell_type": "markdown",
   "metadata": {},
   "source": [
    "# References"
   ]
  },
  {
   "cell_type": "markdown",
   "metadata": {},
   "source": [
    "## Further readting"
   ]
  },
  {
   "cell_type": "markdown",
   "metadata": {},
   "source": [
    "1. [Data-dredging bias. Catalog of biases](https://catalogofbias.org/biases/data-dredging-bias/)\n",
    "2. [Data Snooping. Common mistakes in using statistic](https://web.ma.utexas.edu/users/mks/statmistakes/datasnooping.html)\n",
    "3. [Wikipedia page on data dredging](https://en.wikipedia.org/wiki/Data_dredging)\n",
    "4. [Video on p-hacking. Crash Course Statistics](https://www.youtube.com/watch?v=Gx0fAjNHb1M)\n",
    "5. [Video on p-hacking. Statquest](https://www.youtube.com/watch?v=HDCOUXE3HMM)\n",
    "6. [Cornell Food Researcher's Downfall Raises Larger Questions For Science](https://www.npr.org/sections/thesalt/2018/09/26/651849441/cornell-food-researchers-downfall-raises-larger-questions-for-science)\n",
    "7. [Here’s How Cornell Scientist Brian Wansink Turned Shoddy Data Into Viral Studies About How We Eat](https://www.buzzfeednews.com/article/stephaniemlee/brian-wansink-cornell-p-hacking)\n",
    "8. [A Credibility Crisis in Food Science](https://www.theatlantic.com/health/archive/2018/09/what-is-food-science/571105/)"
   ]
  },
  {
   "cell_type": "markdown",
   "metadata": {},
   "source": [
    "## Links to the images used"
   ]
  },
  {
   "cell_type": "markdown",
   "metadata": {},
   "source": [
    "1. [xkcd comics](https://xkcd.com/882/)\n",
    "2. [Ronald H. Coase quote](https://www.reddit.com/r/QuotesPorn/comments/b76ujr/if_you_torture_the_data_long_enough_it_will/)"
   ]
  }
 ],
 "metadata": {
  "kernelspec": {
   "display_name": "R",
   "language": "R",
   "name": "ir"
  },
  "language_info": {
   "codemirror_mode": "r",
   "file_extension": ".r",
   "mimetype": "text/x-r-source",
   "name": "R",
   "pygments_lexer": "r",
   "version": "3.6.1"
  }
 },
 "nbformat": 4,
 "nbformat_minor": 2
}
